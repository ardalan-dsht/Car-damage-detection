{
 "cells": [
  {
   "cell_type": "markdown",
   "id": "ihGHyZ9f4h2F",
   "metadata": {
    "id": "ihGHyZ9f4h2F"
   },
   "source": [
    "# Car Damage Detective"
   ]
  },
  {
   "cell_type": "markdown",
   "id": "K9hjWu5340YJ",
   "metadata": {
    "id": "K9hjWu5340YJ"
   },
   "source": [
    "Our goal is to classify cars if they are damaged or not.\n",
    "\n",
    "To achive this goal we need to perform a few steps which are :\n",
    "\n",
    "1. Is the input picture actually a car or not?\n",
    "\n",
    "2. Is the car damaged or not?\n",
    "\n",
    "3. Which part of the car is damaged?\n",
    "\n",
    "4. How much impact did the car take during its crash?"
   ]
  },
  {
   "cell_type": "code",
   "execution_count": 1,
   "id": "cc7548ae-44ea-4fdb-b3d2-bd429c88f0b0",
   "metadata": {
    "id": "cc7548ae-44ea-4fdb-b3d2-bd429c88f0b0"
   },
   "outputs": [],
   "source": [
    "#Importing all used packages and libraries.\n",
    "import pandas as pd\n",
    "import numpy as np\n",
    "import os\n",
    "from tensorflow import keras\n",
    "import matplotlib.pyplot as plt\n",
    "import tensorflow as tf\n",
    "from tensorflow.keras.applications.vgg16 import VGG16\n",
    "from tensorflow.keras.applications.vgg19 import VGG19\n",
    "from tensorflow.keras import layers\n",
    "from tensorflow.keras.applications import ResNet50\n",
    "from keras.preprocessing.image import load_img , img_to_array\n",
    "from keras.applications.imagenet_utils import preprocess_input\n",
    "from tensorflow.keras.preprocessing.image import ImageDataGenerator\n",
    "import warnings\n",
    "#This is for ignoring output warnings.\n",
    "warnings.simplefilter(action=\"ignore\",category=FutureWarning)"
   ]
  },
  {
   "cell_type": "code",
   "execution_count": 2,
   "id": "b383b6ea-e804-48f8-ac86-1abd550844fe",
   "metadata": {
    "id": "b383b6ea-e804-48f8-ac86-1abd550844fe"
   },
   "outputs": [
    {
     "name": "stderr",
     "output_type": "stream",
     "text": [
      "2022-02-11 14:11:40.110280: I tensorflow/core/platform/cpu_feature_guard.cc:151] This TensorFlow binary is optimized with oneAPI Deep Neural Network Library (oneDNN) to use the following CPU instructions in performance-critical operations:  AVX2 FMA\n",
      "To enable them in other operations, rebuild TensorFlow with the appropriate compiler flags.\n"
     ]
    }
   ],
   "source": [
    "#Creating different objects based on VGG and Resnet architecture.\n",
    "#All of them were trained on the imagenet dataset.\n",
    "model_vgg16 = VGG16(weights='imagenet')\n",
    "model_vgg19 = VGG19(weights='imagenet')\n",
    "model_resnet50 = ResNet50(weights='imagenet')"
   ]
  },
  {
   "cell_type": "markdown",
   "id": "QXlMpsojqc2_",
   "metadata": {
    "id": "QXlMpsojqc2_"
   },
   "source": [
    "These models are already trained and can classify cars from other objects.(Multilabel Classification)\n",
    "\n",
    "Lets double check the models and see if they can classify an image correctly.\n"
   ]
  },
  {
   "cell_type": "markdown",
   "id": "7CA9qDYorCUv",
   "metadata": {
    "id": "7CA9qDYorCUv"
   },
   "source": [
    "Since our models expect 224 by 224 sized images we need to change the\n",
    "size of our models."
   ]
  },
  {
   "cell_type": "code",
   "execution_count": 3,
   "id": "4PzSBGfoCfEj",
   "metadata": {
    "id": "4PzSBGfoCfEj"
   },
   "outputs": [],
   "source": [
    "#Resizing the given picture.\n",
    "def prepare_image(image_path):\n",
    "    image = load_img(image_path, target_size=(224, 224)) #Creates a PIL object.\n",
    "    image = img_to_array(image) #Converting PIL image to a numpy array.\n",
    "    image = np.expand_dims(image, axis=0) #Expanding the x-axis by one dimention.\n",
    "    image = preprocess_input(image) #Encoding array.(Only works with imagenet)\n",
    "    return image"
   ]
  },
  {
   "cell_type": "code",
   "execution_count": 4,
   "id": "y6Qcwbg0_Vnx",
   "metadata": {
    "id": "y6Qcwbg0_Vnx"
   },
   "outputs": [
    {
     "data": {
      "text/plain": [
       "(1, 224, 224, 3)"
      ]
     },
     "execution_count": 4,
     "metadata": {},
     "output_type": "execute_result"
    }
   ],
   "source": [
    "processed_image = prepare_image(\"test.jpg\") #Chose a random photo from google.\n",
    "#Do we have the desired results?\n",
    "processed_image.shape"
   ]
  },
  {
   "cell_type": "markdown",
   "id": "YEK5u2LXsOWA",
   "metadata": {
    "id": "YEK5u2LXsOWA"
   },
   "source": [
    "From left to right => Batchsize , X-dim , Y-dim , Channels(3 for RGB)"
   ]
  },
  {
   "cell_type": "markdown",
   "id": "XUiC2_hoo63R",
   "metadata": {
    "id": "XUiC2_hoo63R"
   },
   "source": [
    "Classifing the new image with all our models and deciding which one to use for our webapp.\n",
    "Since we used pretrained models we are confident that all of them are good enough, but lets double check everything."
   ]
  },
  {
   "cell_type": "code",
   "execution_count": 5,
   "id": "uSIMFaLkIOOj",
   "metadata": {
    "id": "uSIMFaLkIOOj"
   },
   "outputs": [],
   "source": [
    "#Using argmax to only save the classified label.(Class with the highest value)\n",
    "prediction_vgg16 = np.argmax(model_vgg16.predict(processed_image))\n",
    "prediction_vgg19 = np.argmax(model_vgg19.predict(processed_image))\n",
    "prediction_resnet50 = np.argmax(model_resnet50.predict(processed_image))"
   ]
  },
  {
   "cell_type": "markdown",
   "id": "sAUY4uCpsg92",
   "metadata": {
    "id": "sAUY4uCpsg92"
   },
   "source": [
    "What will the result be?\n",
    "\n",
    "The prediction for each photo will be an array of float numbers which are the percentage of probability of a class."
   ]
  },
  {
   "cell_type": "code",
   "execution_count": 6,
   "id": "blggKqVvtBpg",
   "metadata": {
    "colab": {
     "base_uri": "https://localhost:8080/"
    },
    "id": "blggKqVvtBpg",
    "outputId": "70e09440-cbf7-4c40-faa0-3acfb4c2336c"
   },
   "outputs": [
    {
     "data": {
      "text/plain": [
       "(1, 1000)"
      ]
     },
     "execution_count": 6,
     "metadata": {},
     "output_type": "execute_result"
    }
   ],
   "source": [
    "model_vgg16.predict(processed_image).shape"
   ]
  },
  {
   "cell_type": "markdown",
   "id": "kUf7SwhSqDt-",
   "metadata": {
    "id": "kUf7SwhSqDt-"
   },
   "source": [
    "Results of all our models :"
   ]
  },
  {
   "cell_type": "code",
   "execution_count": 7,
   "id": "Iin0YfThX4Tn",
   "metadata": {
    "colab": {
     "base_uri": "https://localhost:8080/"
    },
    "id": "Iin0YfThX4Tn",
    "outputId": "a2298e1b-c8b7-4ca2-af88-384750f79c0b"
   },
   "outputs": [
    {
     "name": "stdout",
     "output_type": "stream",
     "text": [
      "VGG16 Prediction :  717\n",
      "VGG19 Prediction :  751\n",
      "Resnet50 Prediction :  717\n"
     ]
    }
   ],
   "source": [
    "print(\"VGG16 Prediction : \",prediction_vgg16)\n",
    "print(\"VGG19 Prediction : \",prediction_vgg19)\n",
    "print(\"Resnet50 Prediction : \",prediction_resnet50)"
   ]
  },
  {
   "cell_type": "markdown",
   "id": "e_ztmlAnobO9",
   "metadata": {
    "id": "e_ztmlAnobO9"
   },
   "source": [
    "All models did the classification right(somehow).\n",
    "\n",
    "The VGG19 model predicted our SUV as a race car.\n",
    "\n",
    "The test instance is techniqually a car but not the correct class.\n",
    "\n",
    "From now on we just use the VGG16 model because its lighter than the other two \n",
    "and performs good enough."
   ]
  },
  {
   "cell_type": "markdown",
   "id": "XNO59EfLuUbN",
   "metadata": {
    "id": "XNO59EfLuUbN"
   },
   "source": [
    "Labels can be checked here :\n",
    "\n",
    "https://deeplearning.cms.waikato.ac.nz/user-guide/class-maps/IMAGENET/"
   ]
  },
  {
   "cell_type": "markdown",
   "id": "lgv1KygR0g95",
   "metadata": {
    "id": "lgv1KygR0g95"
   },
   "source": [
    "We have chosen our model for classifying the cars.\n",
    "\n",
    "Now we need a model to classify the damaged cars from the intact cars.\n",
    "\n",
    "Its not a good idea to train a model from scratch in this step.So we expand the chosen model with new layers for training."
   ]
  },
  {
   "cell_type": "code",
   "execution_count": 8,
   "id": "-81VMnJ-uYN0",
   "metadata": {
    "colab": {
     "base_uri": "https://localhost:8080/"
    },
    "id": "-81VMnJ-uYN0",
    "outputId": "cc61a0aa-2297-4d7e-ce9d-a540767ece54"
   },
   "outputs": [
    {
     "name": "stdout",
     "output_type": "stream",
     "text": [
      "Model: \"vgg16\"\n",
      "_________________________________________________________________\n",
      " Layer (type)                Output Shape              Param #   \n",
      "=================================================================\n",
      " input_1 (InputLayer)        [(None, 224, 224, 3)]     0         \n",
      "                                                                 \n",
      " block1_conv1 (Conv2D)       (None, 224, 224, 64)      1792      \n",
      "                                                                 \n",
      " block1_conv2 (Conv2D)       (None, 224, 224, 64)      36928     \n",
      "                                                                 \n",
      " block1_pool (MaxPooling2D)  (None, 112, 112, 64)      0         \n",
      "                                                                 \n",
      " block2_conv1 (Conv2D)       (None, 112, 112, 128)     73856     \n",
      "                                                                 \n",
      " block2_conv2 (Conv2D)       (None, 112, 112, 128)     147584    \n",
      "                                                                 \n",
      " block2_pool (MaxPooling2D)  (None, 56, 56, 128)       0         \n",
      "                                                                 \n",
      " block3_conv1 (Conv2D)       (None, 56, 56, 256)       295168    \n",
      "                                                                 \n",
      " block3_conv2 (Conv2D)       (None, 56, 56, 256)       590080    \n",
      "                                                                 \n",
      " block3_conv3 (Conv2D)       (None, 56, 56, 256)       590080    \n",
      "                                                                 \n",
      " block3_pool (MaxPooling2D)  (None, 28, 28, 256)       0         \n",
      "                                                                 \n",
      " block4_conv1 (Conv2D)       (None, 28, 28, 512)       1180160   \n",
      "                                                                 \n",
      " block4_conv2 (Conv2D)       (None, 28, 28, 512)       2359808   \n",
      "                                                                 \n",
      " block4_conv3 (Conv2D)       (None, 28, 28, 512)       2359808   \n",
      "                                                                 \n",
      " block4_pool (MaxPooling2D)  (None, 14, 14, 512)       0         \n",
      "                                                                 \n",
      " block5_conv1 (Conv2D)       (None, 14, 14, 512)       2359808   \n",
      "                                                                 \n",
      " block5_conv2 (Conv2D)       (None, 14, 14, 512)       2359808   \n",
      "                                                                 \n",
      " block5_conv3 (Conv2D)       (None, 14, 14, 512)       2359808   \n",
      "                                                                 \n",
      " block5_pool (MaxPooling2D)  (None, 7, 7, 512)         0         \n",
      "                                                                 \n",
      " flatten (Flatten)           (None, 25088)             0         \n",
      "                                                                 \n",
      " fc1 (Dense)                 (None, 4096)              102764544 \n",
      "                                                                 \n",
      " fc2 (Dense)                 (None, 4096)              16781312  \n",
      "                                                                 \n",
      " predictions (Dense)         (None, 1000)              4097000   \n",
      "                                                                 \n",
      "=================================================================\n",
      "Total params: 138,357,544\n",
      "Trainable params: 138,357,544\n",
      "Non-trainable params: 0\n",
      "_________________________________________________________________\n"
     ]
    }
   ],
   "source": [
    "#Lets take a quick look at our model\n",
    "model_vgg16.summary()"
   ]
  },
  {
   "cell_type": "markdown",
   "id": "nIKrerxx6owV",
   "metadata": {
    "id": "nIKrerxx6owV"
   },
   "source": [
    "We need to change some upper layers.\n",
    "\n",
    "So we can answer the second question : Is the car damaged or not?"
   ]
  },
  {
   "cell_type": "markdown",
   "id": "CvHKMcMc9aVN",
   "metadata": {
    "id": "CvHKMcMc9aVN"
   },
   "source": [
    "Now we need to get new training data to train our model for damaged cars."
   ]
  },
  {
   "cell_type": "markdown",
   "id": "e8991b8f-e01b-46ee-ad02-bcffd946222e",
   "metadata": {
    "id": "mup3hEZS90ke"
   },
   "source": [
    "I used the car damage detection dataset from kaggle made by \"Anuj Shah\".\n",
    "\n",
    "https://www.kaggle.com/anujms/car-damage-detection\n",
    "\n",
    "(Dataset is stored in repository)"
   ]
  },
  {
   "cell_type": "code",
   "execution_count": 9,
   "id": "091f44b4-ced8-464b-b19b-fa3ac690057c",
   "metadata": {},
   "outputs": [],
   "source": [
    "#defining the base, train and validation directory path\n",
    "base_dir = '/Users/ardalan/GitHub/car-damage-detection/data1a'\n",
    "train_dir = os.path.join(base_dir, 'training')\n",
    "validation_dir = os.path.join(base_dir, 'validation')\n",
    "#defining the damage and whole , train nand validation directory\n",
    "train_damage_dir = os.path.join(train_dir, '00-damage')\n",
    "train_whole_dir = os.path.join(train_dir, '01-whole')\n",
    "validation_damage_dir = os.path.join(validation_dir, '00-damage')\n",
    "validation_whole_dir = os.path.join(validation_dir, '01-whole')"
   ]
  },
  {
   "cell_type": "markdown",
   "id": "f8030c86-e7f8-44ca-b6ee-b92733acdb89",
   "metadata": {},
   "source": [
    "Before feeding the model with our new data we need to scale the inputs and rescale the photos(in pixels)."
   ]
  },
  {
   "cell_type": "code",
   "execution_count": 10,
   "id": "35a853bb-9e42-4c51-8103-8763644b4535",
   "metadata": {},
   "outputs": [],
   "source": [
    "train_datagen = ImageDataGenerator(rescale=1./255)\n",
    "test_datagen = ImageDataGenerator(rescale=1./255)"
   ]
  },
  {
   "cell_type": "code",
   "execution_count": 11,
   "id": "1b67bb6a-2a65-478e-b6c3-653cee7b5013",
   "metadata": {},
   "outputs": [
    {
     "name": "stdout",
     "output_type": "stream",
     "text": [
      "Found 1840 images belonging to 2 classes.\n",
      "Found 460 images belonging to 2 classes.\n"
     ]
    }
   ],
   "source": [
    "#Since we are performing binary classification the class mode should be \"binary\".\n",
    "train_generator = train_datagen.flow_from_directory(\n",
    "        train_dir,  \n",
    "        target_size=(224, 224), \n",
    "        batch_size=20,\n",
    "        class_mode='binary')\n",
    "\n",
    "validation_generator = test_datagen.flow_from_directory(\n",
    "        validation_dir,\n",
    "        target_size=(224, 224),\n",
    "        batch_size=20,\n",
    "        class_mode='binary')"
   ]
  },
  {
   "cell_type": "markdown",
   "id": "9072f5c5-1398-4de4-8368-4a2c9b7e9a60",
   "metadata": {},
   "source": [
    "Our dataset is quite small...\n",
    "\n",
    "Its better to use more training samples but since we are using pre-trained layers it's not a big deal.\n",
    "\n",
    "(To be honest, I coudln't find a better dataset)"
   ]
  },
  {
   "cell_type": "markdown",
   "id": "649f7bca-cade-4621-9a01-f6b7bec0fa43",
   "metadata": {},
   "source": [
    "Now its time to train our model."
   ]
  },
  {
   "cell_type": "code",
   "execution_count": 12,
   "id": "9a2ad336-27e9-4b4e-a0c4-65b524a0e608",
   "metadata": {},
   "outputs": [],
   "source": [
    "#Creating a checkpoint in case that anything goes wrong.\n",
    "#I dont have a gpu so it's fairly possible.\n",
    "#Saving checkpoint in repository.\n",
    "model_checkpoint = tf.keras.callbacks.ModelCheckpoint(\"/Users/ardalan/GitHub/car-damage-detection/model_checkpoint.h5\",\n",
    "                                                monitor = \"val_loss\",\n",
    "                                                verbose = 1,\n",
    "                                                save_best_only = True,\n",
    "                                                save_freq = \"epoch\")"
   ]
  },
  {
   "cell_type": "code",
   "execution_count": 13,
   "id": "bdf3c37d-430d-4ecc-9009-e09be44fe294",
   "metadata": {},
   "outputs": [],
   "source": [
    "#We don't want our model to overfit,so we need early stopping.\n",
    "model_earlystopping = tf.keras.callbacks.EarlyStopping(monitor = \"val_loss\",\n",
    "                                                        patience = 5, #How many epochs should it wait to stop the training?\n",
    "                                                        restore_best_weights = True) #If this hyperparameter is true you dont need to give a new file path.\n",
    "                                                        #It will save the best model weights in the model checkpoint callback.(above)"
   ]
  },
  {
   "cell_type": "code",
   "execution_count": 14,
   "id": "5b27a1bb-69c6-4912-8199-f744354228a6",
   "metadata": {},
   "outputs": [],
   "source": [
    "#Creating the new model based on our VGG model.\n",
    "base_model = VGG16(input_shape = (224, 224, 3),  include_top = False, weights = 'imagenet') #Using depth=3 for RGB"
   ]
  },
  {
   "cell_type": "code",
   "execution_count": 15,
   "id": "25d04dd7-fb32-4524-ae40-37b2c35630eb",
   "metadata": {},
   "outputs": [
    {
     "name": "stdout",
     "output_type": "stream",
     "text": [
      "Model: \"vgg16\"\n",
      "_________________________________________________________________\n",
      " Layer (type)                Output Shape              Param #   \n",
      "=================================================================\n",
      " input_4 (InputLayer)        [(None, 224, 224, 3)]     0         \n",
      "                                                                 \n",
      " block1_conv1 (Conv2D)       (None, 224, 224, 64)      1792      \n",
      "                                                                 \n",
      " block1_conv2 (Conv2D)       (None, 224, 224, 64)      36928     \n",
      "                                                                 \n",
      " block1_pool (MaxPooling2D)  (None, 112, 112, 64)      0         \n",
      "                                                                 \n",
      " block2_conv1 (Conv2D)       (None, 112, 112, 128)     73856     \n",
      "                                                                 \n",
      " block2_conv2 (Conv2D)       (None, 112, 112, 128)     147584    \n",
      "                                                                 \n",
      " block2_pool (MaxPooling2D)  (None, 56, 56, 128)       0         \n",
      "                                                                 \n",
      " block3_conv1 (Conv2D)       (None, 56, 56, 256)       295168    \n",
      "                                                                 \n",
      " block3_conv2 (Conv2D)       (None, 56, 56, 256)       590080    \n",
      "                                                                 \n",
      " block3_conv3 (Conv2D)       (None, 56, 56, 256)       590080    \n",
      "                                                                 \n",
      " block3_pool (MaxPooling2D)  (None, 28, 28, 256)       0         \n",
      "                                                                 \n",
      " block4_conv1 (Conv2D)       (None, 28, 28, 512)       1180160   \n",
      "                                                                 \n",
      " block4_conv2 (Conv2D)       (None, 28, 28, 512)       2359808   \n",
      "                                                                 \n",
      " block4_conv3 (Conv2D)       (None, 28, 28, 512)       2359808   \n",
      "                                                                 \n",
      " block4_pool (MaxPooling2D)  (None, 14, 14, 512)       0         \n",
      "                                                                 \n",
      " block5_conv1 (Conv2D)       (None, 14, 14, 512)       2359808   \n",
      "                                                                 \n",
      " block5_conv2 (Conv2D)       (None, 14, 14, 512)       2359808   \n",
      "                                                                 \n",
      " block5_conv3 (Conv2D)       (None, 14, 14, 512)       2359808   \n",
      "                                                                 \n",
      " block5_pool (MaxPooling2D)  (None, 7, 7, 512)         0         \n",
      "                                                                 \n",
      "=================================================================\n",
      "Total params: 14,714,688\n",
      "Trainable params: 14,714,688\n",
      "Non-trainable params: 0\n",
      "_________________________________________________________________\n"
     ]
    }
   ],
   "source": [
    "base_model.summary()"
   ]
  },
  {
   "cell_type": "markdown",
   "id": "137c8605-f286-4163-8c53-6568579279ed",
   "metadata": {},
   "source": [
    "The pretrained layers are ready,we need to add a flatten layer for reshaping the inputs of new layers to 1D\n",
    "and after that dense layers to train on the new data."
   ]
  },
  {
   "cell_type": "code",
   "execution_count": 16,
   "id": "d7d07209-817f-4d52-9588-562bbd96348a",
   "metadata": {},
   "outputs": [
    {
     "name": "stdout",
     "output_type": "stream",
     "text": [
      "Model: \"sequential\"\n",
      "_________________________________________________________________\n",
      " Layer (type)                Output Shape              Param #   \n",
      "=================================================================\n",
      " vgg16 (Functional)          (None, 7, 7, 512)         14714688  \n",
      "                                                                 \n",
      " flatten (Flatten)           (None, 25088)             0         \n",
      "                                                                 \n",
      " dense (Dense)               (None, 512)               12845568  \n",
      "                                                                 \n",
      " dense_1 (Dense)             (None, 1)                 513       \n",
      "                                                                 \n",
      "=================================================================\n",
      "Total params: 27,560,769\n",
      "Trainable params: 12,846,081\n",
      "Non-trainable params: 14,714,688\n",
      "_________________________________________________________________\n"
     ]
    }
   ],
   "source": [
    "#Adding new layers to our base model.\n",
    "new_model = tf.keras.Sequential() #Creating an object from scratch.\n",
    "for layer in base_model.layers[:]: #Freezing all pre-trained layers.\n",
    "    layer.trainable = False\n",
    "new_model.add(base_model) #Adding our base model to the new model.\n",
    "new_model.add(layers.Flatten()) #The last output(this layers input) has to be flattend : x*y*filters=dimention\n",
    "new_model.add(layers.Dense(512,activation=\"elu\")) #To avoid overfitting we are gonna use \"elu\" instead of \"relu\"\n",
    "#We are performing binary classification,which means one perceptron with \"sigmoid\" activation function.\n",
    "new_model.add(layers.Dense(1,activation=\"sigmoid\"))\n",
    "#Lets check the new model:\n",
    "new_model.summary()"
   ]
  },
  {
   "cell_type": "markdown",
   "id": "daf1268f-e931-456e-98cd-f604b7687282",
   "metadata": {},
   "source": [
    "Everything seems ok.\n",
    "\n",
    "Lets compile the new DNN and start the training process."
   ]
  },
  {
   "cell_type": "code",
   "execution_count": 17,
   "id": "e3ea4a44-691e-4364-81d5-bf4eb35f8104",
   "metadata": {},
   "outputs": [],
   "source": [
    "#Compiling the new model.\n",
    "optimizer = keras.optimizers.RMSprop(learning_rate=0.005) #Its better to use adaptive gradient descent instead of normal GD.\n",
    "new_model.compile(loss='binary_crossentropy', #Loss function for binary classification is always binary_crossentropy.\n",
    "              optimizer=optimizer,\n",
    "              metrics=['Accuracy','Precision','Recall']) #Using different evaluation metrics."
   ]
  },
  {
   "cell_type": "code",
   "execution_count": 18,
   "id": "004475a0-9c7b-44e8-9581-d35683b52596",
   "metadata": {},
   "outputs": [
    {
     "name": "stdout",
     "output_type": "stream",
     "text": [
      "Epoch 1/10\n",
      "92/92 [==============================] - ETA: 0s - loss: 7.1995 - Accuracy: 0.6962 - precision: 0.6981 - recall: 0.6913\n",
      "Epoch 1: val_loss improved from inf to 0.29610, saving model to /Users/ardalan/GitHub/car-damage-detective/model_checkpoint.h5\n",
      "92/92 [==============================] - 385s 4s/step - loss: 7.1995 - Accuracy: 0.6962 - precision: 0.6981 - recall: 0.6913 - val_loss: 0.2961 - val_Accuracy: 0.9000 - val_precision: 0.9107 - val_recall: 0.8870\n",
      "Epoch 2/10\n",
      "92/92 [==============================] - ETA: 0s - loss: 0.7887 - Accuracy: 0.7973 - precision: 0.7925 - recall: 0.8054\n",
      "Epoch 2: val_loss did not improve from 0.29610\n",
      "92/92 [==============================] - 348s 4s/step - loss: 0.7887 - Accuracy: 0.7973 - precision: 0.7925 - recall: 0.8054 - val_loss: 0.4117 - val_Accuracy: 0.8565 - val_precision: 0.9767 - val_recall: 0.7304\n",
      "Epoch 3/10\n",
      "92/92 [==============================] - ETA: 0s - loss: 0.5435 - Accuracy: 0.8332 - precision: 0.8314 - recall: 0.8359\n",
      "Epoch 3: val_loss did not improve from 0.29610\n",
      "92/92 [==============================] - 342s 4s/step - loss: 0.5435 - Accuracy: 0.8332 - precision: 0.8314 - recall: 0.8359 - val_loss: 0.3159 - val_Accuracy: 0.8674 - val_precision: 0.9884 - val_recall: 0.7435\n",
      "Epoch 4/10\n",
      "92/92 [==============================] - ETA: 0s - loss: 0.4476 - Accuracy: 0.8717 - precision: 0.8750 - recall: 0.8674\n",
      "Epoch 4: val_loss did not improve from 0.29610\n",
      "92/92 [==============================] - 350s 4s/step - loss: 0.4476 - Accuracy: 0.8717 - precision: 0.8750 - recall: 0.8674 - val_loss: 0.8696 - val_Accuracy: 0.8652 - val_precision: 0.9941 - val_recall: 0.7348\n",
      "Epoch 5/10\n",
      "92/92 [==============================] - ETA: 0s - loss: 0.3012 - Accuracy: 0.9049 - precision: 0.9036 - recall: 0.9065\n",
      "Epoch 5: val_loss did not improve from 0.29610\n",
      "92/92 [==============================] - 376s 4s/step - loss: 0.3012 - Accuracy: 0.9049 - precision: 0.9036 - recall: 0.9065 - val_loss: 0.3343 - val_Accuracy: 0.9152 - val_precision: 0.9361 - val_recall: 0.8913\n",
      "Epoch 6/10\n",
      "92/92 [==============================] - ETA: 0s - loss: 0.2829 - Accuracy: 0.9141 - precision: 0.9123 - recall: 0.9163\n",
      "Epoch 6: val_loss did not improve from 0.29610\n",
      "92/92 [==============================] - 392s 4s/step - loss: 0.2829 - Accuracy: 0.9141 - precision: 0.9123 - recall: 0.9163 - val_loss: 0.3685 - val_Accuracy: 0.8935 - val_precision: 0.8521 - val_recall: 0.9522\n"
     ]
    }
   ],
   "source": [
    "##Starting the training process.\n",
    "model_callbacks = [model_checkpoint,model_earlystopping] #These are the callbacks we made above.\n",
    "history = new_model.fit(train_generator, #Training the model.\n",
    "                      epochs = 10, #It wont use all epochs since we made earlystopping object.\n",
    "                      validation_data = validation_generator,\n",
    "                      callbacks=model_callbacks) "
   ]
  },
  {
   "cell_type": "markdown",
   "id": "0bbd1a7a-680b-4438-bb4b-9bead528317a",
   "metadata": {},
   "source": [
    "ATTENTION!!\n",
    "\n",
    "The wright path would be training the model, evaluating it on the test set and comparing it to the validation set.\n",
    "\n",
    "Since theres not enough data I will use the trained model without evaluation.\n",
    "\n",
    "This model is not meant to be deployed so its ok to perform next steps.\n",
    "\n",
    "(The goal is to show how to perform such a task)"
   ]
  },
  {
   "cell_type": "markdown",
   "id": "5e8eeb27-e764-4298-89f8-e437d00b95d1",
   "metadata": {},
   "source": [
    "The last step would be saving our trained model.\n",
    "\n",
    "We will use this trained model in a separate app.py file.\n",
    "\n",
    "After saving the model there won't be a need for using this notebook again."
   ]
  },
  {
   "cell_type": "code",
   "execution_count": 19,
   "id": "358bbbbc-75a9-45a7-9e2c-11de08b657dd",
   "metadata": {},
   "outputs": [
    {
     "data": {
      "image/png": "[encoded data removed]",
      "text/plain": [
       "<Figure size 576x360 with 1 Axes>"
      ]
     },
     "metadata": {
      "needs_background": "light"
     },
     "output_type": "display_data"
    }
   ],
   "source": [
    "#Plotting train and validation.\n",
    "pd.DataFrame(history.history).plot(figsize=(8,5))\n",
    "plt.grid(True)\n",
    "plt.gca().set_ylim(0,1)\n",
    "plt.show()"
   ]
  },
  {
   "cell_type": "code",
   "execution_count": 21,
   "id": "a3845c41-0fbe-4cec-b505-ce911e31a0ac",
   "metadata": {},
   "outputs": [],
   "source": [
    "#Saving model for app.\n",
    "#Naming our model \"detective\"\n",
    "new_model.save(\"detective.h5\")"
   ]
  },
  {
   "cell_type": "code",
   "execution_count": null,
   "id": "59281264-788f-4443-9aff-8b63ef3b001a",
   "metadata": {},
   "outputs": [],
   "source": []
  }
 ],
 "metadata": {
  "colab": {
   "collapsed_sections": [],
   "name": "ardalan.ipynb",
   "provenance": []
  },
  "kernelspec": {
   "display_name": "Python 3 (ipykernel)",
   "language": "python",
   "name": "python3"
  },
  "language_info": {
   "codemirror_mode": {
    "name": "ipython",
    "version": 3
   },
   "file_extension": ".py",
   "mimetype": "text/x-python",
   "name": "python",
   "nbconvert_exporter": "python",
   "pygments_lexer": "ipython3",
   "version": "3.9.7"
  }
 },
 "nbformat": 4,
 "nbformat_minor": 5
}
